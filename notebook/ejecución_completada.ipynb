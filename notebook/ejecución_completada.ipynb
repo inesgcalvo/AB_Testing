{
 "cells": [
  {
   "cell_type": "code",
   "execution_count": 111,
   "id": "7562fd4e",
   "metadata": {},
   "outputs": [],
   "source": [
    "import numpy as np\n",
    "import pandas as pd\n",
    "import pylab as plt\n",
    "import seaborn as sns\n",
    "import scipy.stats as stats\n",
    "import statsmodels.stats.api as sms\n",
    "\n",
    "from bayes import *\n",
    "from scipy.optimize import fsolve\n",
    "from scipy.stats import norm, sem, bernoulli, beta\n",
    "from statsmodels.stats.proportion import proportions_ztest, proportion_confint\n",
    "\n",
    "import warnings\n",
    "warnings.filterwarnings('ignore')\n",
    "\n",
    "%matplotlib inline"
   ]
  },
  {
   "cell_type": "code",
   "execution_count": 118,
   "id": "992a6c66",
   "metadata": {},
   "outputs": [
    {
     "data": {
      "text/plain": [
       "(50, 6)"
      ]
     },
     "metadata": {},
     "output_type": "display_data"
    }
   ],
   "source": [
    "df = pd.read_csv('Testeo francachela .csv')\n",
    "df.dropna(inplace = True)\n",
    "display(df.shape)"
   ]
  },
  {
   "cell_type": "code",
   "execution_count": 119,
   "id": "25939a09",
   "metadata": {},
   "outputs": [
    {
     "data": {
      "text/plain": [
       "Index(['Timestamp', 'Test ', 'Pulsar botón primero', 'Impresiones. Del 1 al 5',\n",
       "       'Tiempo de ejecución', '¿Termina el proceso?'],\n",
       "      dtype='object')"
      ]
     },
     "execution_count": 119,
     "metadata": {},
     "output_type": "execute_result"
    }
   ],
   "source": [
    "df.columns"
   ]
  },
  {
   "cell_type": "code",
   "execution_count": 122,
   "id": "c8c73163",
   "metadata": {},
   "outputs": [
    {
     "data": {
      "text/html": [
       "<style type=\"text/css\">\n",
       "</style>\n",
       "<table id=\"T_91264\">\n",
       "  <thead>\n",
       "    <tr>\n",
       "      <th class=\"blank\" >&nbsp;</th>\n",
       "      <th class=\"blank level0\" >&nbsp;</th>\n",
       "      <th id=\"T_91264_level0_col0\" class=\"col_heading level0 col0\" >¿Termina el proceso?</th>\n",
       "    </tr>\n",
       "    <tr>\n",
       "      <th class=\"index_name level0\" >Test </th>\n",
       "      <th class=\"index_name level1\" >Pulsar botón primero</th>\n",
       "      <th class=\"blank col0\" >&nbsp;</th>\n",
       "    </tr>\n",
       "  </thead>\n",
       "  <tbody>\n",
       "    <tr>\n",
       "      <th id=\"T_91264_level0_row0\" class=\"row_heading level0 row0\" rowspan=\"2\">A</th>\n",
       "      <th id=\"T_91264_level1_row0\" class=\"row_heading level1 row0\" >Hacer pedido.</th>\n",
       "      <td id=\"T_91264_row0_col0\" class=\"data row0 col0\" >11.0000</td>\n",
       "    </tr>\n",
       "    <tr>\n",
       "      <th id=\"T_91264_level1_row1\" class=\"row_heading level1 row1\" >Matadero</th>\n",
       "      <td id=\"T_91264_row1_col0\" class=\"data row1 col0\" >13.0000</td>\n",
       "    </tr>\n",
       "    <tr>\n",
       "      <th id=\"T_91264_level0_row2\" class=\"row_heading level0 row2\" rowspan=\"2\">B</th>\n",
       "      <th id=\"T_91264_level1_row2\" class=\"row_heading level1 row2\" >Hacer pedido.</th>\n",
       "      <td id=\"T_91264_row2_col0\" class=\"data row2 col0\" >11.0000</td>\n",
       "    </tr>\n",
       "    <tr>\n",
       "      <th id=\"T_91264_level1_row3\" class=\"row_heading level1 row3\" >Matadero</th>\n",
       "      <td id=\"T_91264_row3_col0\" class=\"data row3 col0\" >15.0000</td>\n",
       "    </tr>\n",
       "  </tbody>\n",
       "</table>\n"
      ],
      "text/plain": [
       "<pandas.io.formats.style.Styler at 0x238f36d1e10>"
      ]
     },
     "execution_count": 122,
     "metadata": {},
     "output_type": "execute_result"
    }
   ],
   "source": [
    "tasas_retencion = pd.pivot_table(df,\n",
    "                                 index = ['Test ', 'Pulsar botón primero'],\n",
    "                                 values = '¿Termina el proceso?',\n",
    "                                 aggfunc = 'count')\n",
    "\n",
    "tasas_retencion.style.format('{:.4f}')"
   ]
  },
  {
   "cell_type": "code",
   "execution_count": 123,
   "id": "00bb1679",
   "metadata": {},
   "outputs": [],
   "source": [
    "ctrl_P = df[(df['Test '] == 'A') & (df['Pulsar botón primero'] == 'Hacer pedido.')]\n",
    "ctrl_M = df[(df['Test '] == 'A') & (df['Pulsar botón primero'] == 'Matadero')]\n",
    "test_P = df[(df['Test '] == 'B') & (df['Pulsar botón primero'] == 'Hacer pedido.')]\n",
    "test_M = df[(df['Test '] == 'B') & (df['Pulsar botón primero'] == 'Matadero')]"
   ]
  },
  {
   "cell_type": "markdown",
   "id": "aaa2253e",
   "metadata": {},
   "source": [
    "## GRUPO CONTROL: CLICK MATADERO VERSUS CLICK HACER PEDIDO"
   ]
  },
  {
   "cell_type": "code",
   "execution_count": 124,
   "id": "97d196e7",
   "metadata": {},
   "outputs": [
    {
     "data": {
      "text/plain": [
       "¿Termina el proceso?\n",
       "Si    11\n",
       "Name: count, dtype: int64"
      ]
     },
     "execution_count": 124,
     "metadata": {},
     "output_type": "execute_result"
    }
   ],
   "source": [
    "ctrl_P['¿Termina el proceso?'].value_counts()"
   ]
  },
  {
   "cell_type": "code",
   "execution_count": 125,
   "id": "b8f9de10",
   "metadata": {},
   "outputs": [
    {
     "data": {
      "text/plain": [
       "¿Termina el proceso?\n",
       "Si    12\n",
       "No     1\n",
       "Name: count, dtype: int64"
      ]
     },
     "execution_count": 125,
     "metadata": {},
     "output_type": "execute_result"
    }
   ],
   "source": [
    "ctrl_M['¿Termina el proceso?'].value_counts()"
   ]
  },
  {
   "cell_type": "code",
   "execution_count": 126,
   "id": "c0b5d307",
   "metadata": {},
   "outputs": [
    {
     "name": "stdout",
     "output_type": "stream",
     "text": [
      "Tasas de ejecución del proceso:\n",
      " Botón: Matadero: 0.9230769230769231,\n",
      " Botón: Matadero: 1.0\n"
     ]
    }
   ],
   "source": [
    "# total = matadero / termina ?\n",
    "# total = pedido / termina ?\n",
    "\n",
    "tot_mat_ctrl, ter_mat_ctrl = 13, 12\n",
    "tot_ped_ctrl, ter_ped_ctrl = 11, 11\n",
    "\n",
    "CR_mat = ter_mat_ctrl / tot_mat_ctrl\n",
    "CR_ped = ter_ped_ctrl / tot_ped_ctrl\n",
    "\n",
    "print(f'Tasas de ejecución del proceso:\\n Botón: Matadero: {CR_mat},\\n Botón: Matadero: {CR_ped}')"
   ]
  },
  {
   "cell_type": "code",
   "execution_count": 127,
   "id": "3ac467c7",
   "metadata": {},
   "outputs": [],
   "source": [
    "beta_ctrl_mat = beta(1 + ter_mat_ctrl, 1 + tot_mat_ctrl - ter_mat_ctrl)\n",
    "beta_ctrl_ped = beta(1 + ter_ped_ctrl, 1 + tot_ped_ctrl - ter_ped_ctrl)"
   ]
  },
  {
   "cell_type": "code",
   "execution_count": 128,
   "id": "c0877518",
   "metadata": {},
   "outputs": [
    {
     "data": {
      "image/png": "[encoded data removed]",
      "text/plain": [
       "<Figure size 600x400 with 1 Axes>"
      ]
     },
     "metadata": {
      "needs_background": "dark"
     },
     "output_type": "display_data"
    }
   ],
   "source": [
    "betas = [beta_ctrl_mat, beta_ctrl_ped]\n",
    "nombres = ['Botón Matadero', 'Botón Hacer Pedido']\n",
    "x = np.linspace(0.4, 1, 1000)\n",
    "cmap = ['#4F0261', '#C50000']\n",
    "\n",
    "fig = plt.figure(facecolor = 'none', \n",
    "                 figsize = (6, 4))\n",
    "ax = fig.add_subplot(111, \n",
    "                     facecolor = 'none')\n",
    "\n",
    "for bet, nom, color in zip(betas, nombres, cmap):\n",
    "    \n",
    "    y = bet.pdf(x)\n",
    "    y_media = bet.mean()\n",
    "    y_std = bet.std()\n",
    "    plt.plot(x, \n",
    "             y, \n",
    "             label = nom, \n",
    "             color = color)\n",
    "    ax.fill_between(x, \n",
    "                    0, \n",
    "                    bet.pdf(x), \n",
    "                    color = color, \n",
    "                    alpha = 0.2)\n",
    "\n",
    "salto = (beta_ctrl_mat.mean() + beta_ctrl_ped.mean()) / 2\n",
    "\n",
    "legend = ax.legend(facecolor = 'none', \n",
    "                   edgecolor = 'none', \n",
    "                   title_fontsize = 8, \n",
    "                   loc = 'best')\n",
    "legend.get_texts()[0].set_color('grey')\n",
    "legend.get_texts()[1].set_color('grey') \n",
    "\n",
    "ax.spines['bottom'].set_color('grey')\n",
    "ax.spines['top'].set_color('grey')\n",
    "ax.spines['left'].set_color('grey')\n",
    "ax.spines['right'].set_color('grey')\n",
    "ax.tick_params(colors = 'grey')\n",
    "ax.xaxis.label.set_color('grey')\n",
    "ax.yaxis.label.set_color('grey')\n",
    "\n",
    "plt.show();"
   ]
  },
  {
   "cell_type": "markdown",
   "id": "546ef4f9",
   "metadata": {},
   "source": [
    "## GRUPO TEST: CLICK MATADERO VERSUS CLICK HACER PEDIDO"
   ]
  },
  {
   "cell_type": "code",
   "execution_count": 131,
   "id": "039c671a",
   "metadata": {},
   "outputs": [
    {
     "data": {
      "text/plain": [
       "¿Termina el proceso?\n",
       "Si    11\n",
       "Name: count, dtype: int64"
      ]
     },
     "execution_count": 131,
     "metadata": {},
     "output_type": "execute_result"
    }
   ],
   "source": [
    "test_P['¿Termina el proceso?'].value_counts()"
   ]
  },
  {
   "cell_type": "code",
   "execution_count": 132,
   "id": "6b56d9f3",
   "metadata": {},
   "outputs": [
    {
     "data": {
      "text/plain": [
       "¿Termina el proceso?\n",
       "Si    15\n",
       "Name: count, dtype: int64"
      ]
     },
     "execution_count": 132,
     "metadata": {},
     "output_type": "execute_result"
    }
   ],
   "source": [
    "test_M['¿Termina el proceso?'].value_counts()"
   ]
  },
  {
   "cell_type": "code",
   "execution_count": 133,
   "id": "4e3ba01c",
   "metadata": {},
   "outputs": [
    {
     "name": "stdout",
     "output_type": "stream",
     "text": [
      "Tasas de ejecución del proceso:\n",
      " Botón: Matadero: 1.0,\n",
      " Botón: Matadero: 1.0\n"
     ]
    }
   ],
   "source": [
    "# total = matadero / termina ?\n",
    "# total = pedido / termina ?\n",
    "\n",
    "tot_mat_test, ter_mat_test = 15, 15 \n",
    "tot_ped_test, ter_ped_test = 11, 11 \n",
    "\n",
    "CR_mat = ter_mat_test / tot_mat_test\n",
    "CR_ped = ter_ped_test / tot_ped_test\n",
    "\n",
    "print(f'Tasas de ejecución del proceso:\\n Botón: Matadero: {CR_mat},\\n Botón: Matadero: {CR_ped}')"
   ]
  },
  {
   "cell_type": "code",
   "execution_count": 134,
   "id": "bda5d810",
   "metadata": {},
   "outputs": [],
   "source": [
    "beta_test_mat = beta(1 + ter_mat_test, 1 + tot_mat_test - ter_mat_test)\n",
    "beta_test_ped = beta(1 + ter_ped_test, 1 + tot_ped_test - ter_ped_test)"
   ]
  },
  {
   "cell_type": "code",
   "execution_count": 135,
   "id": "0c12b5df",
   "metadata": {},
   "outputs": [
    {
     "data": {
      "image/png": "[encoded data removed]",
      "text/plain": [
       "<Figure size 600x400 with 1 Axes>"
      ]
     },
     "metadata": {
      "needs_background": "dark"
     },
     "output_type": "display_data"
    }
   ],
   "source": [
    "betas = [beta_test_mat, beta_test_ped]\n",
    "nombres = ['Botón Matadero', 'Botón Hacer Pedido']\n",
    "x = np.linspace(0.4, 1, 1000)\n",
    "cmap = ['#4F0261', '#C50000']\n",
    "\n",
    "fig = plt.figure(facecolor = 'none', \n",
    "                 figsize = (6, 4))\n",
    "ax = fig.add_subplot(111, \n",
    "                     facecolor = 'none')\n",
    "\n",
    "for bet, nom, color in zip(betas, nombres, cmap):\n",
    "    \n",
    "    y = bet.pdf(x)\n",
    "    y_media = bet.mean()\n",
    "    y_std = bet.std()\n",
    "    plt.plot(x, \n",
    "             y, \n",
    "             label = nom, \n",
    "             color = color)\n",
    "    ax.fill_between(x, \n",
    "                    0, \n",
    "                    bet.pdf(x), \n",
    "                    color = color, \n",
    "                    alpha = 0.2)\n",
    "\n",
    "salto = (beta_test_mat.mean() + beta_test_ped.mean()) / 2\n",
    "\n",
    "legend = ax.legend(facecolor = 'none', \n",
    "                   edgecolor = 'none', \n",
    "                   title_fontsize = 8, \n",
    "                   loc = 'best')\n",
    "legend.get_texts()[0].set_color('grey')\n",
    "legend.get_texts()[1].set_color('grey') \n",
    "\n",
    "ax.spines['bottom'].set_color('grey')\n",
    "ax.spines['top'].set_color('grey')\n",
    "ax.spines['left'].set_color('grey')\n",
    "ax.spines['right'].set_color('grey')\n",
    "ax.tick_params(colors = 'grey')\n",
    "ax.xaxis.label.set_color('grey')\n",
    "ax.yaxis.label.set_color('grey')\n",
    "\n",
    "plt.show();"
   ]
  },
  {
   "cell_type": "markdown",
   "id": "8cd434c3",
   "metadata": {},
   "source": [
    "##  GRUPO CONTROL VERSUS GRUPO TEST"
   ]
  },
  {
   "cell_type": "code",
   "execution_count": 137,
   "id": "4e8ea109",
   "metadata": {},
   "outputs": [],
   "source": [
    "ctrl = df[df['Test '] == 'A']\n",
    "test = df[df['Test '] == 'B']"
   ]
  },
  {
   "cell_type": "code",
   "execution_count": 138,
   "id": "6a602bdc",
   "metadata": {},
   "outputs": [
    {
     "data": {
      "text/plain": [
       "¿Termina el proceso?\n",
       "Si    23\n",
       "No     1\n",
       "Name: count, dtype: int64"
      ]
     },
     "execution_count": 138,
     "metadata": {},
     "output_type": "execute_result"
    }
   ],
   "source": [
    "ctrl['¿Termina el proceso?'].value_counts()"
   ]
  },
  {
   "cell_type": "code",
   "execution_count": 139,
   "id": "d6d6be1b",
   "metadata": {},
   "outputs": [
    {
     "data": {
      "text/plain": [
       "¿Termina el proceso?\n",
       "Si    26\n",
       "Name: count, dtype: int64"
      ]
     },
     "execution_count": 139,
     "metadata": {},
     "output_type": "execute_result"
    }
   ],
   "source": [
    "test['¿Termina el proceso?'].value_counts()"
   ]
  },
  {
   "cell_type": "code",
   "execution_count": 140,
   "id": "cdec96bd",
   "metadata": {},
   "outputs": [
    {
     "name": "stdout",
     "output_type": "stream",
     "text": [
      "Tasas de ejecución del proceso:\n",
      " Grupo Control: 0.9583333333333334,\n",
      " Grupo Test: 1.0\n"
     ]
    }
   ],
   "source": [
    "# total = pedido / termina ?\n",
    "\n",
    "tot_test, ter_test = 26, 26 \n",
    "tot_ctrl, ter_ctrl = 24, 23\n",
    "\n",
    "CR_test = ter_test / tot_test\n",
    "CR_ctrl = ter_ctrl / tot_ctrl\n",
    "\n",
    "print(f'Tasas de ejecución del proceso:\\n Grupo Control: {CR_ctrl},\\n Grupo Test: {CR_test}')"
   ]
  },
  {
   "cell_type": "code",
   "execution_count": 141,
   "id": "dd285c55",
   "metadata": {},
   "outputs": [],
   "source": [
    "beta_test = beta(1 + ter_test, 1 + tot_test - ter_test)\n",
    "beta_ctrl = beta(1 + ter_ctrl, 1 + tot_ctrl - ter_ctrl)"
   ]
  },
  {
   "cell_type": "code",
   "execution_count": 142,
   "id": "cf118d3b",
   "metadata": {},
   "outputs": [
    {
     "data": {
      "image/png": "[encoded data removed]",
      "text/plain": [
       "<Figure size 600x400 with 1 Axes>"
      ]
     },
     "metadata": {
      "needs_background": "dark"
     },
     "output_type": "display_data"
    }
   ],
   "source": [
    "betas = [beta_test, beta_ctrl]\n",
    "nombres = ['Control', 'Test']\n",
    "x = np.linspace(0.4, 1, 1000)\n",
    "cmap = ['#4F0261', '#C50000']\n",
    "\n",
    "fig = plt.figure(facecolor = 'none', \n",
    "                 figsize = (6, 4))\n",
    "ax = fig.add_subplot(111, \n",
    "                     facecolor = 'none')\n",
    "\n",
    "for bet, nom, color in zip(betas, nombres, cmap):\n",
    "    \n",
    "    y = bet.pdf(x)\n",
    "    y_media = bet.mean()\n",
    "    y_std = bet.std()\n",
    "    plt.plot(x, \n",
    "             y, \n",
    "             label = nom, \n",
    "             color = color)\n",
    "    ax.fill_between(x, \n",
    "                    0, \n",
    "                    bet.pdf(x), \n",
    "                    color = color, \n",
    "                    alpha = 0.2)\n",
    "\n",
    "salto = (beta_test.mean() + beta_ctrl.mean()) / 2\n",
    "\n",
    "legend = ax.legend(facecolor = 'none', \n",
    "                   edgecolor = 'none', \n",
    "                   title_fontsize = 8, \n",
    "                   loc = 'best')\n",
    "legend.get_texts()[0].set_color('grey')\n",
    "legend.get_texts()[1].set_color('grey') \n",
    "\n",
    "ax.spines['bottom'].set_color('grey')\n",
    "ax.spines['top'].set_color('grey')\n",
    "ax.spines['left'].set_color('grey')\n",
    "ax.spines['right'].set_color('grey')\n",
    "ax.tick_params(colors = 'grey')\n",
    "ax.xaxis.label.set_color('grey')\n",
    "ax.yaxis.label.set_color('grey')\n",
    "\n",
    "plt.show();"
   ]
  },
  {
   "cell_type": "code",
   "execution_count": 143,
   "id": "081c9b74",
   "metadata": {},
   "outputs": [
    {
     "data": {
      "text/plain": [
       "0.2262443438914055"
      ]
     },
     "execution_count": 143,
     "metadata": {},
     "output_type": "execute_result"
    }
   ],
   "source": [
    "calc_prob(beta_ctrl, beta_test)"
   ]
  },
  {
   "cell_type": "markdown",
   "id": "63d81068",
   "metadata": {},
   "source": [
    "## IMPRESIONES"
   ]
  },
  {
   "cell_type": "code",
   "execution_count": 144,
   "id": "e948b9ca",
   "metadata": {},
   "outputs": [
    {
     "data": {
      "text/plain": [
       "Impresiones. Del 1 al 5\n",
       "4.0    24\n",
       "5.0    19\n",
       "3.0     5\n",
       "1.0     1\n",
       "2.0     1\n",
       "Name: count, dtype: int64"
      ]
     },
     "execution_count": 144,
     "metadata": {},
     "output_type": "execute_result"
    }
   ],
   "source": [
    "df['Impresiones. Del 1 al 5'].value_counts()"
   ]
  },
  {
   "cell_type": "code",
   "execution_count": 145,
   "id": "816114ff",
   "metadata": {},
   "outputs": [
    {
     "data": {
      "image/png": "[encoded data removed]",
      "text/plain": [
       "<Figure size 600x400 with 1 Axes>"
      ]
     },
     "metadata": {
      "needs_background": "dark"
     },
     "output_type": "display_data"
    }
   ],
   "source": [
    "x = [i for i in range(1, 6)]\n",
    "y = df['Impresiones. Del 1 al 5']\n",
    "\n",
    "fig = plt.figure(facecolor = 'none', \n",
    "                 figsize = (6, 4))\n",
    "ax = fig.add_subplot(111, \n",
    "                     facecolor = 'none')\n",
    "\n",
    "sns.histplot(data = y,\n",
    "             bins = 5,\n",
    "             binwidth = 0.4,\n",
    "             kde = True,\n",
    "             color = 'white', \n",
    "             edgecolor = 'black',\n",
    "             facecolor = 'red',\n",
    "             alpha = 0.2)\n",
    "\n",
    "ax.set_xticks(x)\n",
    "ax.spines['bottom'].set_color('grey')\n",
    "ax.spines['top'].set_color('grey')\n",
    "ax.spines['left'].set_color('grey')\n",
    "ax.spines['right'].set_color('grey')\n",
    "ax.tick_params(colors = 'grey')\n",
    "ax.xaxis.label.set_color('grey')\n",
    "ax.yaxis.label.set_color('grey')\n",
    "\n",
    "plt.show();"
   ]
  },
  {
   "cell_type": "code",
   "execution_count": 147,
   "id": "96df5a36",
   "metadata": {},
   "outputs": [
    {
     "data": {
      "text/plain": [
       "count    50.00000\n",
       "mean      4.18000\n",
       "std       0.84973\n",
       "min       1.00000\n",
       "25%       4.00000\n",
       "50%       4.00000\n",
       "75%       5.00000\n",
       "max       5.00000\n",
       "Name: Impresiones. Del 1 al 5, dtype: float64"
      ]
     },
     "execution_count": 147,
     "metadata": {},
     "output_type": "execute_result"
    }
   ],
   "source": [
    "df['Impresiones. Del 1 al 5'].describe()"
   ]
  },
  {
   "cell_type": "markdown",
   "id": "fadb431c",
   "metadata": {},
   "source": [
    "## TIEMPO"
   ]
  },
  {
   "cell_type": "code",
   "execution_count": 148,
   "id": "40b13cf2",
   "metadata": {},
   "outputs": [
    {
     "data": {
      "text/plain": [
       "Tiempo de ejecución\n",
       "00:00:30    12\n",
       "00:00:40     9\n",
       "00:00:33     3\n",
       "00:00:55     2\n",
       "00:00:39     2\n",
       "00:00:38     2\n",
       "00:00:48     2\n",
       "00:00:10     2\n",
       "00:01:00     2\n",
       "00:02:13     1\n",
       "00:00:46     1\n",
       "00:01:04     1\n",
       "00:00:32     1\n",
       "00:00:26     1\n",
       "00:02:00     1\n",
       "00:02:19     1\n",
       "00:00:54     1\n",
       "00:01:09     1\n",
       "00:00:43     1\n",
       "00:01:30     1\n",
       "00:00:41     1\n",
       "00:00:20     1\n",
       "00:00:50     1\n",
       "Name: count, dtype: int64"
      ]
     },
     "execution_count": 148,
     "metadata": {},
     "output_type": "execute_result"
    }
   ],
   "source": [
    "df['Tiempo de ejecución'].value_counts()"
   ]
  },
  {
   "cell_type": "code",
   "execution_count": 149,
   "id": "cba6469c",
   "metadata": {},
   "outputs": [],
   "source": [
    "df['Tiempo de ejecución'] = pd.to_datetime(df['Tiempo de ejecución'], \n",
    "                                           format = '%H:%M:%S')\n",
    "\n",
    "df['segundos'] = df['Tiempo de ejecución'].dt.hour * 3600 + df['Tiempo de ejecución'].dt.minute * 60 + df['Tiempo de ejecución'].dt.second"
   ]
  },
  {
   "cell_type": "code",
   "execution_count": 156,
   "id": "0e024cb5",
   "metadata": {},
   "outputs": [],
   "source": [
    "datos = df['segundos']"
   ]
  },
  {
   "cell_type": "code",
   "execution_count": 157,
   "id": "0cfd6c88",
   "metadata": {},
   "outputs": [
    {
     "data": {
      "image/png": "[encoded data removed]",
      "text/plain": [
       "<Figure size 1000x200 with 1 Axes>"
      ]
     },
     "metadata": {},
     "output_type": "display_data"
    }
   ],
   "source": [
    "fig = plt.figure(facecolor = 'none', \n",
    "                 figsize = (10, 2))\n",
    "\n",
    "ax = fig.add_subplot(111, \n",
    "                     facecolor = 'none')\n",
    "\n",
    "sns.boxplot(data = datos, \n",
    "            orient = 'h',\n",
    "            boxprops = dict(facecolor = 'red', \n",
    "                            edgecolor = 'grey'), \n",
    "            whiskerprops = dict(color = 'grey')\n",
    ")\n",
    "\n",
    "ax.set_xticklabels(ax.get_xticklabels(), \n",
    "                   rotation = 45, \n",
    "                   ha = 'right')\n",
    "\n",
    "ax.spines['bottom'].set_color('grey')\n",
    "ax.spines['top'].set_color('grey')\n",
    "ax.spines['left'].set_color('grey')\n",
    "ax.spines['right'].set_color('grey')\n",
    "ax.tick_params(axis = 'x', \n",
    "               colors = 'grey')\n",
    "ax.xaxis.label.set_color('grey')\n",
    "\n",
    "plt.show();"
   ]
  },
  {
   "cell_type": "code",
   "execution_count": 152,
   "id": "93b32cd3",
   "metadata": {},
   "outputs": [
    {
     "data": {
      "text/plain": [
       "count     50.000000\n",
       "mean      44.920000\n",
       "std       25.988098\n",
       "min       10.000000\n",
       "25%       30.000000\n",
       "50%       40.000000\n",
       "75%       48.000000\n",
       "max      139.000000\n",
       "Name: segundos, dtype: float64"
      ]
     },
     "execution_count": 152,
     "metadata": {},
     "output_type": "execute_result"
    }
   ],
   "source": [
    "df['segundos'].describe()"
   ]
  },
  {
   "cell_type": "code",
   "execution_count": 153,
   "id": "085d2f99",
   "metadata": {},
   "outputs": [
    {
     "data": {
      "text/plain": [
       "Index(['Timestamp', 'Test ', 'Pulsar botón primero', 'Impresiones. Del 1 al 5',\n",
       "       'Tiempo de ejecución', '¿Termina el proceso?', 'segundos'],\n",
       "      dtype='object')"
      ]
     },
     "execution_count": 153,
     "metadata": {},
     "output_type": "execute_result"
    }
   ],
   "source": [
    "df.columns"
   ]
  },
  {
   "cell_type": "code",
   "execution_count": null,
   "id": "b2de41bb",
   "metadata": {},
   "outputs": [],
   "source": []
  }
 ],
 "metadata": {
  "kernelspec": {
   "display_name": "clase",
   "language": "python",
   "name": "clase"
  },
  "language_info": {
   "codemirror_mode": {
    "name": "ipython",
    "version": 3
   },
   "file_extension": ".py",
   "mimetype": "text/x-python",
   "name": "python",
   "nbconvert_exporter": "python",
   "pygments_lexer": "ipython3",
   "version": "3.11.5"
  },
  "toc": {
   "base_numbering": 1,
   "nav_menu": {},
   "number_sections": true,
   "sideBar": true,
   "skip_h1_title": false,
   "title_cell": "Table of Contents",
   "title_sidebar": "Contents",
   "toc_cell": false,
   "toc_position": {},
   "toc_section_display": true,
   "toc_window_display": false
  }
 },
 "nbformat": 4,
 "nbformat_minor": 5
}
